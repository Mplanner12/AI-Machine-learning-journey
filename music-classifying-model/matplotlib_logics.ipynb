// This file contain some basic to advance matplotlib logics
